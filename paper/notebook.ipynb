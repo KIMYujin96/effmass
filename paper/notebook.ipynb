{
 "cells": [
  {
   "cell_type": "markdown",
   "metadata": {},
   "source": [
    "## Introduction\n",
    "\n",
    "This notebook accompanies the paper \"Impact of non-parabolic electronic band structure on the optical, defect, and transport properties of photovoltaic materials\". It reproduces some of the key results from the paper and includes supplementary information. It makes extensive use of the [effmass](http://github.com/lucydot/effmass) package which is available to download on github.\n",
    "\n",
    "The effmass package contains the [data files](http://github.com/lucydot/effmass/paper/data) needed to reproduce all results in the paper. Here we focus upon a subset of that data to calculate:\n",
    "- Effective mass and non-parabolicity of CdTe \n",
    "- Burstein Moss shift and optical effective mass in MAPI\n",
    "\n",
    "In both cases we use data calculated using the HSE06 functional which spin-orbit coupling. However, the notebook can be easily adapted to explore other materials and levels of theory if required.\n",
    "\n",
    "## Imports and preamble"
   ]
  },
  {
   "cell_type": "code",
   "execution_count": 2,
   "metadata": {},
   "outputs": [],
   "source": [
    "# plots displayed within notebook\n",
    "%matplotlib inline\n",
    "\n",
    "# import scientific libraries\n",
    "import math\n",
    "import matplotlib.pyplot as plt\n",
    "import numpy as np\n",
    "\n",
    "# import modules from the effmass package\n",
    "from effmass import inputs, analysis, extrema, outputs, dos, ev_to_hartree"
   ]
  },
  {
   "cell_type": "markdown",
   "metadata": {},
   "source": [
    "## Effective mass and non-parabolicity of CdTe\n",
    "\n",
    "### Settings\n",
    "First we use the `inputs` module to create a `Settings` object. The `extrema_search_depth` attribute tells us how far from the CBM/VBM we would like to search for the bandstructure minima/maxima. The `energy_range` attribute sets the energy range for each band `Segment`. "
   ]
  },
  {
   "cell_type": "code",
   "execution_count": 3,
   "metadata": {},
   "outputs": [],
   "source": [
    "settings = inputs.Settings(extrema_search_depth=0.075, energy_range=0.25)"
   ]
  },
  {
   "cell_type": "markdown",
   "metadata": {},
   "source": [
    "### Import bandstructure data\n",
    "We now use the `inputs` module to create a `Data` object which automatically imports the vasp data from the files specified. We manually specify how many k-points to ignore at the start of each file. These are the k-points which are included as part of the non-self-consistent bandstructure calculation, but which do not form part of the bandstructure itself."
   ]
  },
  {
   "cell_type": "code",
   "execution_count": null,
   "metadata": {},
   "outputs": [],
   "source": [
    "data = inputs.Data(\"./data/CdTe/HSE06_SoC/OUTCAR\",\"./data/CdTe/HSE06_SoC/PROCAR\", ignore=216)"
   ]
  },
  {
   "cell_type": "markdown",
   "metadata": {},
   "source": [
    "### Generate band segments\n",
    "We can now use our `Settings` and `Data` objects to generate a list of `Segment` objects using the `extrema` module. "
   ]
  },
  {
   "cell_type": "code",
   "execution_count": null,
   "metadata": {},
   "outputs": [],
   "source": [
    "segments = extrema.generate_segments(settings,data)"
   ]
  },
  {
   "cell_type": "markdown",
   "metadata": {},
   "source": [
    "### Visualise band segments\n",
    "We can visualise the `Segment` objects created using the `outputs` module."
   ]
  },
  {
   "cell_type": "code",
   "execution_count": null,
   "metadata": {},
   "outputs": [],
   "source": [
    "outputs.plot_segments(data,settings,segments)"
   ]
  },
  {
   "cell_type": "code",
   "execution_count": null,
   "metadata": {},
   "outputs": [],
   "source": [
    "outputs.plot_segments(data,settings,[segments[-1],segments[-3]])"
   ]
  },
  {
   "cell_type": "markdown",
   "metadata": {},
   "source": [
    "### Calculate parabolic effective mass\n",
    "There are a number of methods associated with each `Segment` object. We can use these to calculate the different definitions of effective mass, assuming a parabolic dispersion $E= \\frac{\\hbar^2k^2}{2m^*}$"
   ]
  },
  {
   "cell_type": "code",
   "execution_count": null,
   "metadata": {},
   "outputs": [],
   "source": [
    "segments[-1].calc_five_point_effmass()"
   ]
  },
  {
   "cell_type": "code",
   "execution_count": null,
   "metadata": {},
   "outputs": [],
   "source": [
    "segments[-1].calc_finite_difference_effmass()"
   ]
  },
  {
   "cell_type": "code",
   "execution_count": null,
   "metadata": {},
   "outputs": [],
   "source": [
    "segments[-1].calc_conductivity_effmass(polyfit_order=2,polyfit_weighting=True)[0]"
   ]
  },
  {
   "cell_type": "markdown",
   "metadata": {},
   "source": [
    "We can use inbuilt documentation to find out more about a particular method."
   ]
  },
  {
   "cell_type": "code",
   "execution_count": null,
   "metadata": {},
   "outputs": [],
   "source": [
    "analysis.Segment.calc_conductivity_effmass?"
   ]
  },
  {
   "cell_type": "markdown",
   "metadata": {},
   "source": [
    "### Calculate the Kane dispersion alpha parameter\n",
    "The alpha parameter quantifies the extent of non-parabolicity in the kane dispersion $\\frac{\\hbar^2k^2}{2m^*_0} = E(1 + \\alpha E) $"
   ]
  },
  {
   "cell_type": "code",
   "execution_count": null,
   "metadata": {},
   "outputs": [],
   "source": [
    "segments[-1].calc_alpha() # note that atomic units are used (hartree^-1)"
   ]
  },
  {
   "cell_type": "markdown",
   "metadata": {},
   "source": [
    "### Summarise results\n",
    "\n",
    "The `print_results` function in the `outputs` module summarises the results for a segment. "
   ]
  },
  {
   "cell_type": "code",
   "execution_count": null,
   "metadata": {},
   "outputs": [],
   "source": [
    "outputs.print_results(segments[-1], data, settings)"
   ]
  },
  {
   "cell_type": "markdown",
   "metadata": {},
   "source": [
    "## Burstein Moss shift and optical effective mass in MAPI\n",
    "\n",
    "### Settings, Data and Segments\n",
    "As in the previous example we create a `Settings` object and `Data` object then use these to create a list of `Segment` objects."
   ]
  },
  {
   "cell_type": "code",
   "execution_count": null,
   "metadata": {},
   "outputs": [],
   "source": [
    "settings = inputs.Settings(extrema_search_depth=0.075, energy_range=0.75)\n",
    "data = inputs.Data(\"./data/MAPI/HSE06_SoC/OUTCAR\",\"./data/MAPI/HSE06_SoC/PROCAR\",ignore=216)\n",
    "segments = extrema.generate_segments(settings,data)"
   ]
  },
  {
   "cell_type": "markdown",
   "metadata": {},
   "source": [
    "### Kane dispersion parameters\n",
    "To calculate the non-parabolic burstein-moss shift we need to know the electron alpha parameter and bandedge transport effective mass. First, let's see the segments we have generated"
   ]
  },
  {
   "cell_type": "code",
   "execution_count": null,
   "metadata": {},
   "outputs": [],
   "source": [
    "outputs.plot_segments(data,settings,segments)"
   ]
  },
  {
   "cell_type": "markdown",
   "metadata": {},
   "source": [
    "We want to calculate the kane dispersion parameters for `segments[-4]`, `segments[-5]` and `segments[-6]`. These parameters depend upon the `Settings.energy_range` attribute and the order of the polyfit used for calculating the transport mass. We can adjust the `energy_range` and polyfit order until we get a good fit to data. "
   ]
  },
  {
   "cell_type": "code",
   "execution_count": null,
   "metadata": {},
   "outputs": [],
   "source": [
    "# energy_range=0.25, polyfit_order=6 for optimal fitting in 001 direction\n",
    "\n",
    "settings = inputs.Settings(extrema_search_depth=0.075, energy_range=0.25)\n",
    "segments = extrema.generate_segments(settings, data)\n",
    "outputs.print_results(segments[-4],data,settings,polyfit_order=6)"
   ]
  },
  {
   "cell_type": "code",
   "execution_count": null,
   "metadata": {},
   "outputs": [],
   "source": [
    "# energy_range=0.5, polyfit_order=6 for optimal fitting in 101 direction\n",
    "\n",
    "settings = inputs.Settings(extrema_search_depth=0.075, energy_range=0.5)\n",
    "segments = extrema.generate_segments(settings, data)\n",
    "outputs.print_results(segments[-5],data,settings,polyfit_order=6)"
   ]
  },
  {
   "cell_type": "code",
   "execution_count": null,
   "metadata": {},
   "outputs": [],
   "source": [
    "# energy_range=0.4, polyfit_order=4 for optimal fitting in 111 direction\n",
    "\n",
    "settings = inputs.Settings(extrema_search_depth=0.075, energy_range=0.4)\n",
    "segments = extrema.generate_segments(settings, data)\n",
    "outputs.print_results(segments[-6],data,settings,polyfit_order=4)"
   ]
  },
  {
   "cell_type": "markdown",
   "metadata": {},
   "source": [
    "### Burstein Moss shift\n",
    "\n",
    "The Burstein Moss shift is calculated using analytic expression $\\Delta_{BM} =\\frac{\\hbar^2}{2m^*}(3\\pi^2n_e)^{2/3}$ where the effective mass $m^*$ is constant (in the case of a parabolic dispersion) or takes the form $m^*(E) = m_0^*(1+2 \\alpha E)$ (for a Kane dispersion)."
   ]
  },
  {
   "cell_type": "code",
   "execution_count": null,
   "metadata": {},
   "outputs": [],
   "source": [
    "def burstein_moss_parabolic(mass,concentration):\n",
    "    # the expression comes from the fermi energy for a given concentration, assuming parabolic dispersion\n",
    "    # the fermi wavevector is simply gotten from considering volume of sphere in reciprocal space / volume of each eigenstate (factor 2 for spin)\n",
    "    concentration = concentration * ((5.29E-9)**3) # convert cm-3 --> bohr-3\n",
    "    return (((3*math.pi*math.pi*concentration)**(2/3))/(2*mass))/ev_to_hartree\n",
    "\n",
    "def burstein_moss_kane(concentration,mass,alpha):\n",
    "    # this expression is an adaptation of the one above where the mass is now dependant upon the shift m_t = m_o(1+2 \\alpha E) \n",
    "    concentration = concentration * ((5.29E-9)**3) # convert cm-3 --> bohr-3\n",
    "    return (analysis.solve_quadratic(2*alpha,1,[-((3*math.pi*math.pi*concentration)**(2/3)/(2*mass))])[0])/ev_to_hartree"
   ]
  },
  {
   "cell_type": "markdown",
   "metadata": {},
   "source": [
    "We take a mean average of the alpha value across the three directions"
   ]
  },
  {
   "cell_type": "code",
   "execution_count": null,
   "metadata": {},
   "outputs": [],
   "source": [
    "average_alpha = (2.214+1.499+0.16)/(3*(ev_to_hartree)) # convert back to atomic units"
   ]
  },
  {
   "cell_type": "markdown",
   "metadata": {},
   "source": [
    "The geometric average of the mass is calculated for electrons and holes. Unlike silicon which has 6 equivalent minima and a degeneracy of 6, the minima here are between $\\Gamma-R$ which has a multiplicity of 1. These average values are then combined into a reduced mass."
   ]
  },
  {
   "cell_type": "code",
   "execution_count": null,
   "metadata": {},
   "outputs": [],
   "source": [
    "def dos_average(m1,m2,m3,degeneracy=1):\n",
    "    # density of states mass which is used instead of conductivity effective mass as electron concentration populates entire 3D brillouin zone\n",
    "    # this perhaps needs a weighting factor to account for not mx,my,mz\n",
    "    return ((m1*m2*m3)**(1/3))*(degeneracy**(2/3))\n",
    "\n",
    "def reduced_mass(m_e,m_h):\n",
    "    return 1/((1/m_e)+(1/m_h))\n",
    "\n",
    "# effective mass at bandedge calculated from bandstructure\n",
    "em1 = 0.19\n",
    "em2 = 0.10\n",
    "em3 = 0.18\n",
    "hm1 = 0.23\n",
    "hm2 = 0.10\n",
    "hm3 = 0.12\n",
    "\n",
    "average_mass=reduced_mass(dos_average(em1,em2,em3),dos_average(hm1,hm2,hm3))\n"
   ]
  },
  {
   "cell_type": "markdown",
   "metadata": {},
   "source": [
    "Calculate the Burstein Moss shifts for concentration range $1 \\times 10^{16}$ to $ 3 \\times 10^{20}$"
   ]
  },
  {
   "cell_type": "code",
   "execution_count": null,
   "metadata": {},
   "outputs": [],
   "source": [
    "concentrations = np.logspace(16,np.log10(3E20),100)\n",
    "parabolic_bandshift = [burstein_moss_parabolic(average_mass,x) for x in concentrations]\n",
    "kane_bandshift = [burstein_moss_kane(x,average_mass,average_alpha) for x in concentrations]"
   ]
  },
  {
   "cell_type": "markdown",
   "metadata": {},
   "source": [
    "### Import density of states data\n",
    "We can compare these values to density of states data. We start by parsing the DOSCAR file."
   ]
  },
  {
   "cell_type": "code",
   "execution_count": null,
   "metadata": {},
   "outputs": [],
   "source": [
    "data.parse_DOSCAR(\"./data/MAPI/HSE06_SoC/DOSCAR\")"
   ]
  },
  {
   "cell_type": "markdown",
   "metadata": {},
   "source": [
    "We can use this data and the `dos` module to calculate the band filling level for a given concentration. We also need to supply the volume of the unit cell in $\\unicode{x212B} ^3$."
   ]
  },
  {
   "cell_type": "code",
   "execution_count": null,
   "metadata": {},
   "outputs": [],
   "source": [
    "volume = 251.13\n",
    "dos_bandshift = [dos.electron_fill_level(data, volume, x, dos.find_dos_CBM_index(data))for x in concentrations]"
   ]
  },
  {
   "cell_type": "markdown",
   "metadata": {},
   "source": [
    "### Compare results\n",
    "\n",
    "Let's plot the three bandshift results:"
   ]
  },
  {
   "cell_type": "code",
   "execution_count": null,
   "metadata": {},
   "outputs": [],
   "source": [
    "fig = plt.figure()\n",
    "plt.plot(concentrations,parabolic_bandshift, \"-\",label=\"parabolic\",color=\"black\")\n",
    "plt.plot(concentrations,kane_bandshift,\"--\",label=\"Kane\",color=\"black\")\n",
    "plt.plot(concentrations,dos_bandshift, \":\",label=\"DFT DOS\",color=\"black\")\n",
    "plt.legend(prop={'size': 8},loc=2)\n",
    "plt.xlabel(r\"concentration cm$^{-3}$\")\n",
    "plt.ylabel(\"E (eV)\")\n",
    "plt.tight_layout()\n",
    "plt.savefig(\"burstein_moss_MAPI_hybrid_SoC.pdf\")\n",
    "plt.xlim([0,3E20])\n",
    "plt.ylim([0,2.5])"
   ]
  },
  {
   "cell_type": "markdown",
   "metadata": {},
   "source": [
    "### Calculate optical effective mass as a function of concentration\n",
    "Our results show that the Kane dispersion is a good approximation to the density of states data (which makes no assumptions about the band dispersions). We can calculate an optical effective mass:\n",
    "$\\begin{equation}\n",
    "\\frac{1}{m_o} = \\frac{\\sum_{l} \\int f(E_k(k),T) \\frac{\\delta^2 E_k(k)}{\\delta k^2} dk}{\\sum_{l} \\int f(E_k(k),T) dk}\n",
    "\\end{equation}$\n",
    "\n",
    "with $E(K)$ set to the Kane dispersion. The Fermi level in the Fermi-Dirac distribution $f(E_k(k),T)$ is set to the burstein-moss shift as calculated using the Kane dispersion."
   ]
  },
  {
   "cell_type": "code",
   "execution_count": null,
   "metadata": {},
   "outputs": [],
   "source": [
    "settings = inputs.Settings(extrema_search_depth=0.075, energy_range=0.25)  # kane dispersion valid up to energy_range 0.25eV\n",
    "segments = extrema.generate_segments(settings, data)\n",
    "concentrations = np.logspace(16,np.log10(2E19),100) # if we set the concentration higher we exceed energies where the kane dispersion is valid and receive a warning\n",
    "\n",
    "optical_mass_111 = [segments[-6].calc_optical_effmass_kane_dispersion(fermi_level=data.CBM+burstein_moss_kane(x,average_mass,average_alpha),alpha=0.16/ev_to_hartree,mass_bandedge=0.155,upper_limit=0.1) for x in concentrations]\n",
    "optical_mass_110 = [segments[-5].calc_optical_effmass_kane_dispersion(fermi_level=data.CBM+burstein_moss_kane(x,average_mass,average_alpha),alpha=1.499/ev_to_hartree,mass_bandedge=0.098,upper_limit=0.1) for x in concentrations]\n",
    "optical_mass_100 = [segments[-4].calc_optical_effmass_kane_dispersion(fermi_level=data.CBM+burstein_moss_kane(x,average_mass,average_alpha),alpha=2.214/ev_to_hartree,mass_bandedge=0.156,upper_limit=0.1) for x in concentrations]\n",
    "\n",
    "## Plot results\n",
    "\n",
    "fig,ax1 = plt.subplots()\n",
    "\n",
    "ax1.plot(np.log10(concentrations),optical_mass_111,\":\",label=\"(111) \",color=\"black\")\n",
    "ax1.plot(np.log10(concentrations),optical_mass_110,\"-.\",label=\"(110) \",color=\"black\")\n",
    "ax1.plot(np.log10(concentrations),optical_mass_100,\"--\",label=\"(100) \",color=\"black\")\n",
    "\n",
    "ax1.set_xticks([16,17,18,19])\n",
    "ax1.set_xticklabels([r\"$10^{16}$\",r\"$10^{17}$\",r\"$10^{18}$\",r\"$10^{19}$\"])\n",
    "ax1.set_xlim([16,np.log10(2E19)])\n",
    "ax1.set_ylim([0,0.4])\n",
    "\n",
    "ax1.set_xlabel(r\"concentration (cm$^{-3}$)\")\n",
    "ax1.set_ylabel(r\"optical $\\frac{m^*}{m_e}$\")"
   ]
  },
  {
   "cell_type": "code",
   "execution_count": null,
   "metadata": {},
   "outputs": [],
   "source": []
  }
 ],
 "metadata": {
  "kernelspec": {
   "display_name": "Python 3",
   "language": "python",
   "name": "python3"
  },
  "language_info": {
   "codemirror_mode": {
    "name": "ipython",
    "version": 3
   },
   "file_extension": ".py",
   "mimetype": "text/x-python",
   "name": "python",
   "nbconvert_exporter": "python",
   "pygments_lexer": "ipython3",
   "version": "3.6.4"
  }
 },
 "nbformat": 4,
 "nbformat_minor": 2
}
